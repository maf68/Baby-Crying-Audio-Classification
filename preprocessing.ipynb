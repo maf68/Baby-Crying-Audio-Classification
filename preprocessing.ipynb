{
  "nbformat": 4,
  "nbformat_minor": 0,
  "metadata": {
    "colab": {
      "provenance": []
    },
    "kernelspec": {
      "name": "python3",
      "display_name": "Python 3"
    },
    "language_info": {
      "name": "python"
    }
  },
  "cells": [
    {
      "cell_type": "code",
      "execution_count": 1,
      "metadata": {
        "colab": {
          "base_uri": "https://localhost:8080/"
        },
        "id": "gYb8YauIUqFh",
        "outputId": "4d32a50c-1649-48a0-e887-05841d33f4b7"
      },
      "outputs": [
        {
          "output_type": "stream",
          "name": "stdout",
          "text": [
            "Requirement already satisfied: librosa in /usr/local/lib/python3.11/dist-packages (0.11.0)\n",
            "Requirement already satisfied: scikit-learn in /usr/local/lib/python3.11/dist-packages (1.6.1)\n",
            "Requirement already satisfied: matplotlib in /usr/local/lib/python3.11/dist-packages (3.10.0)\n",
            "Requirement already satisfied: seaborn in /usr/local/lib/python3.11/dist-packages (0.13.2)\n",
            "Requirement already satisfied: gradio in /usr/local/lib/python3.11/dist-packages (5.37.0)\n",
            "Requirement already satisfied: audioread>=2.1.9 in /usr/local/lib/python3.11/dist-packages (from librosa) (3.0.1)\n",
            "Requirement already satisfied: numba>=0.51.0 in /usr/local/lib/python3.11/dist-packages (from librosa) (0.60.0)\n",
            "Requirement already satisfied: numpy>=1.22.3 in /usr/local/lib/python3.11/dist-packages (from librosa) (2.0.2)\n",
            "Requirement already satisfied: scipy>=1.6.0 in /usr/local/lib/python3.11/dist-packages (from librosa) (1.15.3)\n",
            "Requirement already satisfied: joblib>=1.0 in /usr/local/lib/python3.11/dist-packages (from librosa) (1.5.1)\n",
            "Requirement already satisfied: decorator>=4.3.0 in /usr/local/lib/python3.11/dist-packages (from librosa) (4.4.2)\n",
            "Requirement already satisfied: soundfile>=0.12.1 in /usr/local/lib/python3.11/dist-packages (from librosa) (0.13.1)\n",
            "Requirement already satisfied: pooch>=1.1 in /usr/local/lib/python3.11/dist-packages (from librosa) (1.8.2)\n",
            "Requirement already satisfied: soxr>=0.3.2 in /usr/local/lib/python3.11/dist-packages (from librosa) (0.5.0.post1)\n",
            "Requirement already satisfied: typing_extensions>=4.1.1 in /usr/local/lib/python3.11/dist-packages (from librosa) (4.14.1)\n",
            "Requirement already satisfied: lazy_loader>=0.1 in /usr/local/lib/python3.11/dist-packages (from librosa) (0.4)\n",
            "Requirement already satisfied: msgpack>=1.0 in /usr/local/lib/python3.11/dist-packages (from librosa) (1.1.1)\n",
            "Requirement already satisfied: threadpoolctl>=3.1.0 in /usr/local/lib/python3.11/dist-packages (from scikit-learn) (3.6.0)\n",
            "Requirement already satisfied: contourpy>=1.0.1 in /usr/local/lib/python3.11/dist-packages (from matplotlib) (1.3.2)\n",
            "Requirement already satisfied: cycler>=0.10 in /usr/local/lib/python3.11/dist-packages (from matplotlib) (0.12.1)\n",
            "Requirement already satisfied: fonttools>=4.22.0 in /usr/local/lib/python3.11/dist-packages (from matplotlib) (4.59.0)\n",
            "Requirement already satisfied: kiwisolver>=1.3.1 in /usr/local/lib/python3.11/dist-packages (from matplotlib) (1.4.8)\n",
            "Requirement already satisfied: packaging>=20.0 in /usr/local/lib/python3.11/dist-packages (from matplotlib) (25.0)\n",
            "Requirement already satisfied: pillow>=8 in /usr/local/lib/python3.11/dist-packages (from matplotlib) (11.2.1)\n",
            "Requirement already satisfied: pyparsing>=2.3.1 in /usr/local/lib/python3.11/dist-packages (from matplotlib) (3.2.3)\n",
            "Requirement already satisfied: python-dateutil>=2.7 in /usr/local/lib/python3.11/dist-packages (from matplotlib) (2.9.0.post0)\n",
            "Requirement already satisfied: pandas>=1.2 in /usr/local/lib/python3.11/dist-packages (from seaborn) (2.2.2)\n",
            "Requirement already satisfied: aiofiles<25.0,>=22.0 in /usr/local/lib/python3.11/dist-packages (from gradio) (24.1.0)\n",
            "Requirement already satisfied: anyio<5.0,>=3.0 in /usr/local/lib/python3.11/dist-packages (from gradio) (4.9.0)\n",
            "Requirement already satisfied: brotli>=1.1.0 in /usr/local/lib/python3.11/dist-packages (from gradio) (1.1.0)\n",
            "Requirement already satisfied: fastapi<1.0,>=0.115.2 in /usr/local/lib/python3.11/dist-packages (from gradio) (0.116.1)\n",
            "Requirement already satisfied: ffmpy in /usr/local/lib/python3.11/dist-packages (from gradio) (0.6.0)\n",
            "Requirement already satisfied: gradio-client==1.10.4 in /usr/local/lib/python3.11/dist-packages (from gradio) (1.10.4)\n",
            "Requirement already satisfied: groovy~=0.1 in /usr/local/lib/python3.11/dist-packages (from gradio) (0.1.2)\n",
            "Requirement already satisfied: httpx<1.0,>=0.24.1 in /usr/local/lib/python3.11/dist-packages (from gradio) (0.28.1)\n",
            "Requirement already satisfied: huggingface-hub>=0.28.1 in /usr/local/lib/python3.11/dist-packages (from gradio) (0.33.4)\n",
            "Requirement already satisfied: jinja2<4.0 in /usr/local/lib/python3.11/dist-packages (from gradio) (3.1.6)\n",
            "Requirement already satisfied: markupsafe<4.0,>=2.0 in /usr/local/lib/python3.11/dist-packages (from gradio) (3.0.2)\n",
            "Requirement already satisfied: orjson~=3.0 in /usr/local/lib/python3.11/dist-packages (from gradio) (3.11.0)\n",
            "Requirement already satisfied: pydantic<2.12,>=2.0 in /usr/local/lib/python3.11/dist-packages (from gradio) (2.11.7)\n",
            "Requirement already satisfied: pydub in /usr/local/lib/python3.11/dist-packages (from gradio) (0.25.1)\n",
            "Requirement already satisfied: python-multipart>=0.0.18 in /usr/local/lib/python3.11/dist-packages (from gradio) (0.0.20)\n",
            "Requirement already satisfied: pyyaml<7.0,>=5.0 in /usr/local/lib/python3.11/dist-packages (from gradio) (6.0.2)\n",
            "Requirement already satisfied: ruff>=0.9.3 in /usr/local/lib/python3.11/dist-packages (from gradio) (0.12.4)\n",
            "Requirement already satisfied: safehttpx<0.2.0,>=0.1.6 in /usr/local/lib/python3.11/dist-packages (from gradio) (0.1.6)\n",
            "Requirement already satisfied: semantic-version~=2.0 in /usr/local/lib/python3.11/dist-packages (from gradio) (2.10.0)\n",
            "Requirement already satisfied: starlette<1.0,>=0.40.0 in /usr/local/lib/python3.11/dist-packages (from gradio) (0.47.1)\n",
            "Requirement already satisfied: tomlkit<0.14.0,>=0.12.0 in /usr/local/lib/python3.11/dist-packages (from gradio) (0.13.3)\n",
            "Requirement already satisfied: typer<1.0,>=0.12 in /usr/local/lib/python3.11/dist-packages (from gradio) (0.16.0)\n",
            "Requirement already satisfied: uvicorn>=0.14.0 in /usr/local/lib/python3.11/dist-packages (from gradio) (0.35.0)\n",
            "Requirement already satisfied: fsspec in /usr/local/lib/python3.11/dist-packages (from gradio-client==1.10.4->gradio) (2025.3.2)\n",
            "Requirement already satisfied: websockets<16.0,>=10.0 in /usr/local/lib/python3.11/dist-packages (from gradio-client==1.10.4->gradio) (15.0.1)\n",
            "Requirement already satisfied: idna>=2.8 in /usr/local/lib/python3.11/dist-packages (from anyio<5.0,>=3.0->gradio) (3.10)\n",
            "Requirement already satisfied: sniffio>=1.1 in /usr/local/lib/python3.11/dist-packages (from anyio<5.0,>=3.0->gradio) (1.3.1)\n",
            "Requirement already satisfied: certifi in /usr/local/lib/python3.11/dist-packages (from httpx<1.0,>=0.24.1->gradio) (2025.7.14)\n",
            "Requirement already satisfied: httpcore==1.* in /usr/local/lib/python3.11/dist-packages (from httpx<1.0,>=0.24.1->gradio) (1.0.9)\n",
            "Requirement already satisfied: h11>=0.16 in /usr/local/lib/python3.11/dist-packages (from httpcore==1.*->httpx<1.0,>=0.24.1->gradio) (0.16.0)\n",
            "Requirement already satisfied: filelock in /usr/local/lib/python3.11/dist-packages (from huggingface-hub>=0.28.1->gradio) (3.18.0)\n",
            "Requirement already satisfied: requests in /usr/local/lib/python3.11/dist-packages (from huggingface-hub>=0.28.1->gradio) (2.32.3)\n",
            "Requirement already satisfied: tqdm>=4.42.1 in /usr/local/lib/python3.11/dist-packages (from huggingface-hub>=0.28.1->gradio) (4.67.1)\n",
            "Requirement already satisfied: hf-xet<2.0.0,>=1.1.2 in /usr/local/lib/python3.11/dist-packages (from huggingface-hub>=0.28.1->gradio) (1.1.5)\n",
            "Requirement already satisfied: llvmlite<0.44,>=0.43.0dev0 in /usr/local/lib/python3.11/dist-packages (from numba>=0.51.0->librosa) (0.43.0)\n",
            "Requirement already satisfied: pytz>=2020.1 in /usr/local/lib/python3.11/dist-packages (from pandas>=1.2->seaborn) (2025.2)\n",
            "Requirement already satisfied: tzdata>=2022.7 in /usr/local/lib/python3.11/dist-packages (from pandas>=1.2->seaborn) (2025.2)\n",
            "Requirement already satisfied: platformdirs>=2.5.0 in /usr/local/lib/python3.11/dist-packages (from pooch>=1.1->librosa) (4.3.8)\n",
            "Requirement already satisfied: annotated-types>=0.6.0 in /usr/local/lib/python3.11/dist-packages (from pydantic<2.12,>=2.0->gradio) (0.7.0)\n",
            "Requirement already satisfied: pydantic-core==2.33.2 in /usr/local/lib/python3.11/dist-packages (from pydantic<2.12,>=2.0->gradio) (2.33.2)\n",
            "Requirement already satisfied: typing-inspection>=0.4.0 in /usr/local/lib/python3.11/dist-packages (from pydantic<2.12,>=2.0->gradio) (0.4.1)\n",
            "Requirement already satisfied: six>=1.5 in /usr/local/lib/python3.11/dist-packages (from python-dateutil>=2.7->matplotlib) (1.17.0)\n",
            "Requirement already satisfied: cffi>=1.0 in /usr/local/lib/python3.11/dist-packages (from soundfile>=0.12.1->librosa) (1.17.1)\n",
            "Requirement already satisfied: click>=8.0.0 in /usr/local/lib/python3.11/dist-packages (from typer<1.0,>=0.12->gradio) (8.2.1)\n",
            "Requirement already satisfied: shellingham>=1.3.0 in /usr/local/lib/python3.11/dist-packages (from typer<1.0,>=0.12->gradio) (1.5.4)\n",
            "Requirement already satisfied: rich>=10.11.0 in /usr/local/lib/python3.11/dist-packages (from typer<1.0,>=0.12->gradio) (13.9.4)\n",
            "Requirement already satisfied: pycparser in /usr/local/lib/python3.11/dist-packages (from cffi>=1.0->soundfile>=0.12.1->librosa) (2.22)\n",
            "Requirement already satisfied: charset-normalizer<4,>=2 in /usr/local/lib/python3.11/dist-packages (from requests->huggingface-hub>=0.28.1->gradio) (3.4.2)\n",
            "Requirement already satisfied: urllib3<3,>=1.21.1 in /usr/local/lib/python3.11/dist-packages (from requests->huggingface-hub>=0.28.1->gradio) (2.4.0)\n",
            "Requirement already satisfied: markdown-it-py>=2.2.0 in /usr/local/lib/python3.11/dist-packages (from rich>=10.11.0->typer<1.0,>=0.12->gradio) (3.0.0)\n",
            "Requirement already satisfied: pygments<3.0.0,>=2.13.0 in /usr/local/lib/python3.11/dist-packages (from rich>=10.11.0->typer<1.0,>=0.12->gradio) (2.19.2)\n",
            "Requirement already satisfied: mdurl~=0.1 in /usr/local/lib/python3.11/dist-packages (from markdown-it-py>=2.2.0->rich>=10.11.0->typer<1.0,>=0.12->gradio) (0.1.2)\n"
          ]
        }
      ],
      "source": [
        "!pip install librosa scikit-learn matplotlib seaborn gradio\n"
      ]
    },
    {
      "cell_type": "code",
      "source": [
        "# Mount Google Drive to access dataset\n",
        "from google.colab import drive\n",
        "drive.mount('/content/drive')\n"
      ],
      "metadata": {
        "colab": {
          "base_uri": "https://localhost:8080/"
        },
        "id": "BB5Bw0ESU75n",
        "outputId": "815131b2-318d-4547-ba2d-c4dc92707c3a"
      },
      "execution_count": 1,
      "outputs": [
        {
          "output_type": "stream",
          "name": "stdout",
          "text": [
            "Mounted at /content/drive\n"
          ]
        }
      ]
    },
    {
      "cell_type": "code",
      "source": [
        "import os\n",
        "import zipfile\n",
        "\n",
        "# Assuming the zip is uploaded to your Drive\n",
        "zip_path = '/content/drive/MyDrive/baby_cry_data.zip'\n",
        "extract_path = '/content/drive/MyDrive/baby_cry_data'\n",
        "\n",
        "with zipfile.ZipFile(zip_path, 'r') as zip_ref:\n",
        "    zip_ref.extractall(extract_path)"
      ],
      "metadata": {
        "id": "mvp5MJTBWE1k"
      },
      "execution_count": 2,
      "outputs": []
    },
    {
      "cell_type": "code",
      "source": [
        "#checking class distribution\n",
        "import os\n",
        "from collections import Counter\n",
        "\n",
        "base_dir = '/content/drive/MyDrive/baby_cry_data'\n",
        "classes = os.listdir(base_dir)\n",
        "\n",
        "class_counts = {}\n",
        "for cls in classes:\n",
        "    if not cls.startswith('.'):\n",
        "        files = os.listdir(os.path.join(base_dir, cls))\n",
        "        class_counts[cls] = len(files)\n",
        "\n",
        "print(class_counts)"
      ],
      "metadata": {
        "colab": {
          "base_uri": "https://localhost:8080/"
        },
        "id": "2RuWq-uBaIpz",
        "outputId": "7ecc5942-80b8-42d4-91e0-242a8a0972bc"
      },
      "execution_count": 3,
      "outputs": [
        {
          "output_type": "stream",
          "name": "stdout",
          "text": [
            "{'BabyCryingSounds': 9}\n"
          ]
        }
      ]
    },
    {
      "cell_type": "code",
      "source": [
        "#convert audio to mel spectogram\n",
        "import numpy as np\n",
        "import librosa\n",
        "import librosa.display\n",
        "import matplotlib.pyplot as plt\n",
        "\n",
        "def audio_to_melspectrogram(file_path, max_len=128):\n",
        "    y, sr = librosa.load(file_path, sr=22050)\n",
        "    mels = librosa.feature.melspectrogram(y=y, sr=sr, n_mels=128)\n",
        "    log_mels = librosa.power_to_db(mels, ref=np.max)\n",
        "\n",
        "    if log_mels.shape[1] < max_len:\n",
        "        pad_width = max_len - log_mels.shape[1]\n",
        "        log_mels = np.pad(log_mels, pad_width=((0, 0), (0, pad_width)), mode='constant')\n",
        "    else:\n",
        "        log_mels = log_mels[:, :max_len]\n",
        "\n",
        "    return log_mels"
      ],
      "metadata": {
        "id": "dTk557brbJry"
      },
      "execution_count": 4,
      "outputs": []
    },
    {
      "cell_type": "code",
      "source": [
        "import tqdm\n",
        "\n",
        "X = []\n",
        "y = []\n",
        "label_map = {label: idx for idx, label in enumerate(sorted(class_counts.keys()))}\n",
        "\n",
        "audio_extensions = ('*.wav', '*.ogg')\n",
        "for label in label_map:\n",
        "    folder = os.path.join(base_dir, label)\n",
        "    for file in tqdm.tqdm(base_dir, desc=f\"Processing {label}\"):\n",
        "        file_path = os.path.join(folder, file)\n",
        "        if not file_path.lower().endswith(audio_extensions):  # Skip non-audio files\n",
        "            continue\n",
        "        try:\n",
        "            mel = audio_to_melspectrogram(file_path)\n",
        "            X.append(mel)\n",
        "            y.append(label_map[label])\n",
        "        except Exception as e:\n",
        "            print(f\"Error processing {file_path}: {e}\")\n",
        "\n",
        "\n",
        "\n"
      ],
      "metadata": {
        "colab": {
          "base_uri": "https://localhost:8080/"
        },
        "id": "Ui14XuaLZmnb",
        "outputId": "f036edc1-5c2e-45a5-e789-1a1f8bdedc78"
      },
      "execution_count": 5,
      "outputs": [
        {
          "output_type": "stream",
          "name": "stderr",
          "text": [
            "Processing BabyCryingSounds: 100%|██████████| 36/36 [00:00<00:00, 60422.15it/s]\n"
          ]
        }
      ]
    },
    {
      "cell_type": "code",
      "source": [
        "import os\n",
        "import glob\n",
        "from collections import defaultdict\n",
        "\n",
        "# Path to the main dataset folder on Google Drive\n",
        "base_dir = \"/content/drive/MyDrive/baby_cry_data/BabyCryingSounds\"\n",
        "\n",
        "# Expected classes\n",
        "labels = ['belly pain', 'burping', 'cold_hot', 'discomfort',\n",
        "                   'hungry', 'laugh', 'noise', 'silence', 'tired']\n",
        "\n",
        "# Mapping: label name → list of audio file paths\n",
        "data_by_class = defaultdict(list)\n",
        "\n",
        "# Build class-to-files mapping\n",
        "audio_extensions = ('*.wav', '*.ogg')\n",
        "\n",
        "for label in labels:\n",
        "    folder_path = os.path.join(base_dir, label)\n",
        "    if os.path.exists(folder_path):\n",
        "        audio_files = []\n",
        "        for ext in audio_extensions:\n",
        "            audio_files.extend(glob.glob(os.path.join(folder_path, ext)))\n",
        "        data_by_class[label].extend(audio_files)\n",
        "        print(f\"✅ Loaded {len(audio_files)} files for class: {label}\")\n",
        "    else:\n",
        "        print(f\"⚠️ Folder not found for class: {label}\")\n",
        "\n",
        "\n",
        "# Summary of data distribution\n",
        "print(\"\\n📊 Class distribution:\")\n",
        "for label, files in data_by_class.items():\n",
        "    print(f\"{label:12s} → {len(files)} files\")\n",
        "\n"
      ],
      "metadata": {
        "colab": {
          "base_uri": "https://localhost:8080/"
        },
        "id": "ofA4_LAQVyuw",
        "outputId": "f50627cb-18cd-4186-b118-1d61b22723e6"
      },
      "execution_count": 6,
      "outputs": [
        {
          "output_type": "stream",
          "name": "stdout",
          "text": [
            "✅ Loaded 124 files for class: belly pain\n",
            "✅ Loaded 108 files for class: burping\n",
            "✅ Loaded 108 files for class: cold_hot\n",
            "✅ Loaded 135 files for class: discomfort\n",
            "✅ Loaded 382 files for class: hungry\n",
            "✅ Loaded 108 files for class: laugh\n",
            "✅ Loaded 108 files for class: noise\n",
            "✅ Loaded 108 files for class: silence\n",
            "✅ Loaded 132 files for class: tired\n",
            "\n",
            "📊 Class distribution:\n",
            "belly pain   → 124 files\n",
            "burping      → 108 files\n",
            "cold_hot     → 108 files\n",
            "discomfort   → 135 files\n",
            "hungry       → 382 files\n",
            "laugh        → 108 files\n",
            "noise        → 108 files\n",
            "silence      → 108 files\n",
            "tired        → 132 files\n"
          ]
        }
      ]
    },
    {
      "cell_type": "markdown",
      "source": [
        "Convert audio to melspec"
      ],
      "metadata": {
        "id": "LUpAFppVfKNp"
      }
    },
    {
      "cell_type": "code",
      "source": [
        "# Step 2: Convert Audio to Mel Spectrogram\n",
        "\n",
        "import librosa\n",
        "import numpy as np\n",
        "\n",
        "IMG_HEIGHT = 128\n",
        "IMG_WIDTH = 128\n",
        "\n",
        "def audio_to_mel(file_path):\n",
        "    y, sr = librosa.load(file_path, sr=22050)\n",
        "    mels = librosa.feature.melspectrogram(y=y, sr=sr, n_mels=IMG_HEIGHT)\n",
        "    db = librosa.power_to_db(mels, ref=np.max)\n",
        "\n",
        "    if db.shape[1] < IMG_WIDTH:\n",
        "        pad = IMG_WIDTH - db.shape[1]\n",
        "        db = np.pad(db, ((0, 0), (0, pad)), mode='constant')\n",
        "    else:\n",
        "        db = db[:, :IMG_WIDTH]\n",
        "\n",
        "    return db"
      ],
      "metadata": {
        "id": "Dc2I6yvgZlYl"
      },
      "execution_count": 8,
      "outputs": []
    },
    {
      "cell_type": "code",
      "source": [
        "# Step 3: Build Dataset\n",
        "X = []\n",
        "y = []\n",
        "\n",
        "# Use data_by_class from the previous cell\n",
        "for label, file_paths in data_by_class.items():\n",
        "    for path in file_paths:\n",
        "        try:\n",
        "            mel = audio_to_mel(path)\n",
        "            X.append(mel)\n",
        "            y.append(label)  # Append the label string\n",
        "\n",
        "        except Exception as e:\n",
        "            print(f\"Error: {path} - {e}\")\n",
        "\n",
        "X = np.array(X)\n",
        "X = X[..., np.newaxis]"
      ],
      "metadata": {
        "id": "RfYb6fgyh5HK"
      },
      "execution_count": 10,
      "outputs": []
    },
    {
      "cell_type": "code",
      "source": [
        "#step4\n",
        "import numpy as np\n",
        "from sklearn.preprocessing import LabelEncoder\n",
        "from tensorflow.keras.utils import to_categorical\n",
        "\n",
        "# Convert labels to numpy array\n",
        "y = np.array(y)\n",
        "\n",
        "# Encode string labels into integers\n",
        "le = LabelEncoder()\n",
        "y_encoded = le.fit_transform(y)  # e.g., 'hungry' → 4\n",
        "\n",
        "# For model training\n",
        "y_cat = to_categorical(y_encoded)\n",
        "\n",
        "# For saving to folders later\n",
        "y_labels = le.inverse_transform(y_encoded)  # back to original labels\n",
        "\n",
        "#step 5\n",
        "from sklearn.model_selection import train_test_split\n",
        "\n",
        "# First split: Train + Test (80/20)\n",
        "X_train_val, X_test, y_train_val, y_test = train_test_split(\n",
        "    X, y_labels, test_size=0.2, random_state=42, stratify=y_labels\n",
        ")\n",
        "\n",
        "# Second split: Train + Val (80/20 of the remaining → 64/16 overall)\n",
        "X_train, X_val, y_train, y_val = train_test_split(\n",
        "    X_train_val, y_train_val, test_size=0.2, random_state=42, stratify=y_train_val\n",
        ")\n"
      ],
      "metadata": {
        "id": "wYBKuBvlh413"
      },
      "execution_count": 14,
      "outputs": []
    },
    {
      "cell_type": "code",
      "source": [
        "import os\n",
        "\n",
        "output_base = '/content/baby_cry_split'\n",
        "\n",
        "# Create directories for train, val, test\n",
        "for split in ['train', 'val', 'test']:\n",
        "    for class_name in le.classes_:\n",
        "        os.makedirs(os.path.join(output_base, split, class_name), exist_ok=True)\n",
        "\n",
        "from tqdm import tqdm\n",
        "\n",
        "def save_split(X_split, y_split, split_name):\n",
        "    for idx, (mel, label) in enumerate(tqdm(zip(X_split, y_split), total=len(X_split), desc=f\"Saving {split_name}\")):\n",
        "        save_path = os.path.join(output_base, split_name, label, f\"mel_{idx}.npy\")\n",
        "        np.save(save_path, mel)\n",
        "\n",
        "# Save all splits\n",
        "save_split(X_train, y_train, 'train')\n",
        "save_split(X_val, y_val, 'val')\n",
        "save_split(X_test, y_test, 'test')\n"
      ],
      "metadata": {
        "colab": {
          "base_uri": "https://localhost:8080/"
        },
        "id": "7qHU4Aj72Qpd",
        "outputId": "87a687ea-d833-4015-ea47-a42fec292dae"
      },
      "execution_count": 15,
      "outputs": [
        {
          "output_type": "stream",
          "name": "stderr",
          "text": [
            "Saving train: 100%|██████████| 840/840 [00:00<00:00, 2917.52it/s]\n",
            "Saving val: 100%|██████████| 210/210 [00:00<00:00, 2380.02it/s]\n",
            "Saving test: 100%|██████████| 263/263 [00:00<00:00, 3075.19it/s]\n"
          ]
        }
      ]
    }
  ]
}